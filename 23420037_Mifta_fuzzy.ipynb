{
  "nbformat": 4,
  "nbformat_minor": 0,
  "metadata": {
    "colab": {
      "provenance": [],
      "include_colab_link": true
    },
    "kernelspec": {
      "name": "python3",
      "display_name": "Python 3"
    },
    "language_info": {
      "name": "python"
    }
  },
  "cells": [
    {
      "cell_type": "markdown",
      "metadata": {
        "id": "view-in-github",
        "colab_type": "text"
      },
      "source": [
        "<a href=\"https://colab.research.google.com/github/Miftakhull/Fuzzy_UAS_MIFTA/blob/main/23420037_Mifta_fuzzy.ipynb\" target=\"_parent\"><img src=\"https://colab.research.google.com/assets/colab-badge.svg\" alt=\"Open In Colab\"/></a>"
      ]
    },
    {
      "cell_type": "markdown",
      "source": [
        "###- Impor library Pandas -"
      ],
      "metadata": {
        "id": "8V9SXjGHgMfJ"
      }
    },
    {
      "cell_type": "code",
      "execution_count": 14,
      "metadata": {
        "id": "7ZTyiRxjRzS1"
      },
      "outputs": [],
      "source": [
        "import pandas as pd"
      ]
    },
    {
      "cell_type": "markdown",
      "source": [
        "###- Deklarasi fungsi cek nilai -"
      ],
      "metadata": {
        "id": "25wNNxT9gx2P"
      }
    },
    {
      "cell_type": "code",
      "source": [
        "def checkEmotion(x):\n",
        "    eLow, eMedium, eHigh = 0,0,0\n",
        "\n",
        "    if x >= 0 and x <= 35:\n",
        "        eLow    = 1\n",
        "\n",
        "    elif x > 35 and x < 39:\n",
        "        eLow    = (-1*((x-39)/(39-35)))\n",
        "        eMedium = ((x-35)/(39-35))\n",
        "\n",
        "    elif x >= 39 and x <= 61:\n",
        "        eMedium = 1\n",
        "\n",
        "    elif x > 61 and x <65:\n",
        "        eMedium = (-1*((x-65)/(65-61)))\n",
        "        eHigh   = ((x-61)/(65-1))\n",
        "\n",
        "    elif x >= 65:\n",
        "        eHigh   = 1\n",
        "\n",
        "    return eLow, eMedium, eHigh\n"
      ],
      "metadata": {
        "id": "J1NQzU4jUApz"
      },
      "execution_count": 15,
      "outputs": []
    },
    {
      "cell_type": "markdown",
      "source": [
        "###- Deklarasi fungsi untuk cek nilai provokasi -"
      ],
      "metadata": {
        "id": "fToD5n7jiHm8"
      }
    },
    {
      "cell_type": "code",
      "source": [
        "def checkProvoke(x):\n",
        "    pLow, pMedium, pHigh = 0,0,0\n",
        "\n",
        "    if x >= 0 and x <= 55:\n",
        "        pLow    = 1\n",
        "\n",
        "    elif x > 55 and x < 60:\n",
        "        pLow    = (-1*(x-60)/(60-55))\n",
        "        pMedium = ((x-55)/(60-55))\n",
        "\n",
        "    elif x >= 60 and x <= 85:\n",
        "        pMedium = 1\n",
        "\n",
        "    elif x > 85 and x < 87:\n",
        "        pMedium = (-1*(x-87)/(82-87))\n",
        "        pHigh   = ((x-85)/(87-85))\n",
        "\n",
        "    elif x >= 87:\n",
        "        pHigh   = 1\n",
        "\n",
        "    return pLow, pMedium, pHigh"
      ],
      "metadata": {
        "id": "qv1tLysbUNg6"
      },
      "execution_count": 16,
      "outputs": []
    },
    {
      "cell_type": "markdown",
      "source": [
        "###- Deklarasi \"inference\" untuk menghitung nilai-nilai output fuzzy menggunakan provokasi dan juga kombinasi emosi -"
      ],
      "metadata": {
        "id": "U_gloREoiYgD"
      }
    },
    {
      "cell_type": "code",
      "source": [
        "def inference(eLow, eMedium, eHigh, pLow, pMedium, pHigh):\n",
        "    Y1,Y2,Y3,Y4,Y5 = 0,0,0,0,0\n",
        "    N1,N2,N3,N4 = 0,0,0,0\n",
        "    Y,N = 0,0\n",
        "\n",
        "    if eHigh != 0 and pHigh != 0:\n",
        "        Y1 = min(eHigh,pHigh)\n",
        "\n",
        "    if eHigh != 0 and pMedium != 0:\n",
        "        Y2 = min(eHigh,pMedium)\n",
        "\n",
        "    if eHigh != 0 and pLow != 0:\n",
        "        N1 = min(eHigh,pLow)\n",
        "\n",
        "    if eMedium != 0 and pHigh !=0:\n",
        "        Y3 = min(eMedium,pHigh)\n",
        "\n",
        "    if eMedium != 0 and pMedium != 0:\n",
        "        N2 = min(eMedium,pMedium)\n",
        "\n",
        "    if eMedium != 0 and pLow != 0:\n",
        "        N3 = min(eMedium,pLow)\n",
        "\n",
        "    if eLow != 0 and pHigh != 0:\n",
        "        Y4 = min(eLow,pHigh)\n",
        "\n",
        "    if eLow != 0 and pMedium != 0:\n",
        "        Y5 = min(eLow,pMedium)\n",
        "\n",
        "    if eLow != 0 and pLow != 0:\n",
        "        N4 = min(eLow,pLow)\n",
        "\n",
        "    Y = max(Y1,Y2,Y3,Y4,Y5)\n",
        "    N = max(N1,N2,N3,N4)\n",
        "    return Y,N"
      ],
      "metadata": {
        "id": "XucuRv4_UU3_"
      },
      "execution_count": 17,
      "outputs": []
    },
    {
      "cell_type": "markdown",
      "source": [
        "### - Deklarasi fungsi defuzzification untuk  defuzzifikasi / konversi nilai fuzzy untuk menjadi nilai konkret -"
      ],
      "metadata": {
        "id": "UmfKLzYvjGWa"
      }
    },
    {
      "cell_type": "code",
      "source": [
        "def defuzzification(Y,N):\n",
        "    if Y != 0 and N != 0:\n",
        "        return ((Y*60)+(N*40))/(Y+N)\n",
        "    elif Y != 0:\n",
        "        return (Y*60)/Y\n",
        "    elif N != 0:\n",
        "        return (N*40)/N"
      ],
      "metadata": {
        "id": "9CmfkmgNUteb"
      },
      "execution_count": 18,
      "outputs": []
    },
    {
      "cell_type": "markdown",
      "source": [
        "\n",
        "\n",
        "```\n",
        "# This is formatted as code\n",
        "```\n",
        "\n",
        "### - Program  -"
      ],
      "metadata": {
        "id": "CfE5EftAlqGF"
      }
    },
    {
      "cell_type": "code",
      "source": [
        "# Membaca file dari excel\n",
        "data = pd.read_excel('News.xlsx') # jalur file Excel\n",
        "\n",
        "# Ekstrak value nilai dari excel\n",
        "news = data['News'].tolist()\n",
        "emotion = data['Emotion'].tolist()\n",
        "provoke = data['Provoke'].tolist()\n",
        "\n",
        "count = 0\n",
        "while count < len(news):\n",
        "    eLow, eMedium, eHigh = checkEmotion(emotion[count])\n",
        "    pLow, pMedium, pHigh = checkProvoke(provoke[count])\n",
        "    Ya, Tidak = inference(eLow, eMedium, eHigh, pLow, pMedium, pHigh)\n",
        "    hasil = defuzzification(Ya, Tidak)\n",
        "    if hasil < 55.0:\n",
        "        hoax = \"No\"\n",
        "    elif hasil >= 55.0:\n",
        "        hoax = \"Yes\"\n",
        "    print(\"News:\", news[count], \" Emotion:\", emotion[count], \" Provoke:\", provoke[count], \" Hoax:\", hoax)\n",
        "\n",
        "    count += 1"
      ],
      "metadata": {
        "colab": {
          "base_uri": "https://localhost:8080/"
        },
        "id": "VbVqhHnnX4ep",
        "outputId": "623a789e-f6e3-4de1-8cdd-b211c5e0226a"
      },
      "execution_count": 19,
      "outputs": [
        {
          "output_type": "stream",
          "name": "stdout",
          "text": [
            "News: B01  Emotion: 47  Provoke: 22  Hoax: No\n",
            "News: B02  Emotion: 18  Provoke: 77  Hoax: Yes\n",
            "News: B03  Emotion: 27  Provoke: 48  Hoax: No\n",
            "News: B04  Emotion: 50  Provoke: 26  Hoax: No\n",
            "News: B05  Emotion: 94  Provoke: 73  Hoax: Yes\n",
            "News: B06  Emotion: 64  Provoke: 63  Hoax: No\n",
            "News: B07  Emotion: 13  Provoke: 24  Hoax: No\n",
            "News: B08  Emotion: 6  Provoke: 68  Hoax: Yes\n",
            "News: B09  Emotion: 13  Provoke: 89  Hoax: Yes\n",
            "News: B10  Emotion: 58  Provoke: 72  Hoax: No\n",
            "News: B11  Emotion: 54  Provoke: 74  Hoax: No\n",
            "News: B12  Emotion: 82  Provoke: 68  Hoax: Yes\n",
            "News: B13  Emotion: 14  Provoke: 77  Hoax: Yes\n",
            "News: B14  Emotion: 48  Provoke: 36  Hoax: No\n",
            "News: B15  Emotion: 65  Provoke: 34  Hoax: No\n",
            "News: B16  Emotion: 11  Provoke: 80  Hoax: Yes\n",
            "News: B17  Emotion: 68  Provoke: 13  Hoax: No\n",
            "News: B18  Emotion: 92  Provoke: 37  Hoax: No\n",
            "News: B19  Emotion: 22  Provoke: 76  Hoax: Yes\n",
            "News: B20  Emotion: 50  Provoke: 87  Hoax: Yes\n",
            "News: B21  Emotion: 94  Provoke: 27  Hoax: No\n",
            "News: B22  Emotion: 23  Provoke: 32  Hoax: No\n",
            "News: B23  Emotion: 5  Provoke: 24  Hoax: No\n",
            "News: B24  Emotion: 94  Provoke: 62  Hoax: Yes\n",
            "News: B25  Emotion: 40  Provoke: 20  Hoax: No\n",
            "News: B26  Emotion: 4  Provoke: 44  Hoax: No\n",
            "News: B27  Emotion: 77  Provoke: 5  Hoax: No\n",
            "News: B28  Emotion: 21  Provoke: 62  Hoax: Yes\n",
            "News: B29  Emotion: 52  Provoke: 81  Hoax: No\n",
            "News: B30  Emotion: 38  Provoke: 40  Hoax: No\n"
          ]
        }
      ]
    },
    {
      "cell_type": "markdown",
      "source": [
        "# Data dalam kodingan memperbarui langsung dari data yang ada di excel, karena satu2nya sumber dalam kodingan diatas hanya dari excel saja"
      ],
      "metadata": {
        "id": "LwKPBYGx8oi6"
      }
    }
  ]
}